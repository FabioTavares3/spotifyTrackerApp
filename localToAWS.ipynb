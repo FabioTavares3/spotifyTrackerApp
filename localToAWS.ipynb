{
 "cells": [
  {
   "cell_type": "code",
   "execution_count": null,
   "id": "38d89f71",
   "metadata": {},
   "outputs": [],
   "source": [
    "from sqlalchemy import create_engine, text\n",
    "import pandas as pd"
   ]
  },
  {
   "cell_type": "code",
   "execution_count": null,
   "id": "7aac2493",
   "metadata": {},
   "outputs": [],
   "source": [
    "local_user = 'root'\n",
    "password = '*******'\n",
    "local_host = 'localhost'\n",
    "database = 'spotify_tracker_schema'\n",
    "AWS_user = 'fTAVARES'\n",
    "AWS_host = 'spotifyapp-database.c0niqo2yq4lw.us-east-1.rds.amazonaws.com'\n",
    "\n",
    "def get_connection(user,password,host, database):\n",
    "    # Create a connection to the MySQL database using SQLAlchemy\n",
    "    return create_engine(\n",
    "        url=\"mysql+pymysql://{0}:{1}@{2}:{3}/{4}\".format(\n",
    "            user, password, host, 3306,database)\n",
    "        )\n",
    "\n",
    "AWS_connection = get_connection(AWS_user, password, AWS_host, database)\n",
    "local_connection = get_connection(local_user, password, local_host, database)"
   ]
  },
  {
   "cell_type": "code",
   "execution_count": 30,
   "id": "401b2b49",
   "metadata": {},
   "outputs": [],
   "source": [
    "query_f_played = 'SELECT * FROM f_played'\n",
    "query_d_songs = 'SELECT * FROM d_songs'\n",
    "query_d_artists = 'SELECT * FROM d_artists'\n",
    "query_d_users = 'SELECT * FROM d_user'\n",
    "query_d_songs_artists = 'SELECT * FROM d_songs_artists'\n",
    "query_insert_f_played = \"\"\" INSERT IGNORE INTO f_played (song_id, song_name, user_id, timestamp, duration, dt_listened)\n",
    "                    VALUES (:song_id, :song_name, :user_id, :timestamp, :duration, :dt_listened)\"\"\"\n",
    "query_insert_d_user = \"\"\"\n",
    "                INSERT IGNORE INTO d_user (user_id, user_name, email, country, membership, user_image)\n",
    "                VALUES (:user_id, :user_name, :email, :country, :membership, :user_image)\n",
    "            \"\"\"\n",
    "query_insert_d_songs = \"\"\"\n",
    "            INSERT IGNORE INTO d_songs (song_id, song_name, duration, album_name, song_image, song_url, song_uri, album_url, album_id)\n",
    "            VALUES (:song_id, :song_name, :duration, :album_name, :song_image, :song_url, :song_uri, :album_url, :album_id)\"\"\"\n",
    "query_insert_d_songs_artists = \"\"\"\n",
    "                INSERT IGNORE INTO d_songs_artists (song_id, artist_id)\n",
    "                VALUES (:song_id, :artist_id)\n",
    "            \"\"\"\n",
    "query_insert_d_artists = \"\"\"\n",
    "            INSERT IGNORE INTO d_artists (artist_id, artist_name, artist_url, artist_uri, artist_image)\n",
    "            VALUES (:artist_id, :artist_name, :artist_url, :artist_uri, :artist_image)\n",
    "            \"\"\"\n",
    "\n",
    "queries = {\n",
    "    'f_played': query_f_played,\n",
    "    'd_songs': query_d_songs,\n",
    "    'd_artists': query_d_artists,\n",
    "    'd_user': query_d_users,\n",
    "    'd_songs_artists': query_d_songs_artists,\n",
    "    'insert_f_played': query_insert_f_played,\n",
    "    'insert_d_user': query_insert_d_user,\n",
    "    'insert_d_songs': query_insert_d_songs,\n",
    "    'insert_d_songs_artists': query_insert_d_songs_artists,\n",
    "    'insert_d_artists': query_insert_d_artists}"
   ]
  },
  {
   "cell_type": "code",
   "execution_count": 31,
   "id": "c970e595",
   "metadata": {},
   "outputs": [
    {
     "name": "stdout",
     "output_type": "stream",
     "text": [
      "Inserting data from d_songs to insert_d_songs\n",
      "Inserting data from d_artists to insert_d_artists\n",
      "Inserting data from d_user to insert_d_user\n",
      "Inserting data from d_songs_artists to insert_d_songs_artists\n",
      "Inserting data from f_played to insert_f_played in chunks\n"
     ]
    }
   ],
   "source": [
    "tables = ['d_songs', 'd_artists', 'd_user', 'd_songs_artists','f_played', 'insert_f_played',  'insert_d_songs_artists','insert_d_user', 'insert_d_artists','insert_d_songs']\n",
    "L = 0\n",
    "R = len(tables) - 1\n",
    "while L < R:\n",
    "    with AWS_connection.begin() as connection:\n",
    "        if tables[L] != 'f_played':\n",
    "            print(f'Inserting data from {tables[L]} to {tables[R]}')\n",
    "            data = pd.read_sql(queries[tables[L]], local_connection)\n",
    "            connection.execute(text(queries[tables[R]]), data.to_dict(orient='records'))\n",
    "        else:\n",
    "            print(f'Inserting data from {tables[L]} to {tables[R]} in chunks')\n",
    "            for chunk in pd.read_sql(queries[tables[L]], local_connection, chunksize=30000):\n",
    "                connection.execute(text(queries[tables[R]]), chunk.to_dict(orient='records'))\n",
    "    L += 1\n",
    "    R -= 1\n",
    "        \n",
    "\n"
   ]
  }
 ],
 "metadata": {
  "kernelspec": {
   "display_name": "Python 3",
   "language": "python",
   "name": "python3"
  },
  "language_info": {
   "codemirror_mode": {
    "name": "ipython",
    "version": 3
   },
   "file_extension": ".py",
   "mimetype": "text/x-python",
   "name": "python",
   "nbconvert_exporter": "python",
   "pygments_lexer": "ipython3",
   "version": "3.12.10"
  }
 },
 "nbformat": 4,
 "nbformat_minor": 5
}
